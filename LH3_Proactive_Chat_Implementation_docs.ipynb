{
 "cells": [
  {
   "cell_type": "markdown",
   "metadata": {},
   "source": [
    " *[Login To LH3 Dashboard](#cell2)  \n",
    " *[Section 2](#cell3)  \n",
    " *[Section 3](#cell4) "
   ]
  },
  {
   "cell_type": "markdown",
   "metadata": {},
   "source": [
    "# How to implement a Proactive Chat widget"
   ]
  },
  {
   "cell_type": "markdown",
   "metadata": {},
   "source": [
    "This guide is intended to help Web developpers to implement a proactive chat widget on their website. This is the first section of a three part chapter:\n",
    "\n",
    "1. How to implement a Proactive Chat widget\n",
    "2. How to customize the Proactive chat widget\n",
    "3. How to customize the Chat Window widget.\n",
    "    \n",
    "At the end of this tutorial you will be able to create a webpage similar to the one below"
   ]
  },
  {
   "cell_type": "markdown",
   "metadata": {},
   "source": [
    "| ![login.jpg](./images/final.png) | \n",
    "|:--:| "
   ]
  },
  {
   "cell_type": "markdown",
   "metadata": {},
   "source": [
    "We will follow these steps:\n",
    "    \n",
    "\n",
    "1. Login to LH3\n",
    "2. Creating and editing a Chat Snippet\n",
    "3. Creating a test page in HTML\n",
    "4. Test the result"
   ]
  },
  {
   "cell_type": "markdown",
   "metadata": {},
   "source": [
    "\n",
    "| ![login.jpg](./images/Proactive_chat_implementation_for_web_developer.png) | \n",
    "|:--:| \n",
    "| *Proactive Chart Implementation FlowChart* |"
   ]
  },
  {
   "cell_type": "markdown",
   "metadata": {},
   "source": [
    "### Login to LH3 Dashboard (Section 1/5)"
   ]
  },
  {
   "cell_type": "markdown",
   "metadata": {},
   "source": [
    "We will login to LH3 to create a Chat snipet.\n",
    "You need to have an admin account (or mini-admin account) in LH3. Plese can contact **Guinsly** the VR coordinator at SP to grant you an admin/create an admin account. ***guinsly [at] scholarsporta.info***\n",
    " \n",
    " action: login to [LibraryH3lp' deashboard](https://ca.libraryh3lp.com/dashboard/ \"Google's Homepage\") \n"
   ]
  },
  {
   "cell_type": "markdown",
   "metadata": {},
   "source": [
    "| ![login.jpg](./images/login.GIF) | \n",
    "|:--:| \n",
    "| *Login to LH3* |"
   ]
  },
  {
   "cell_type": "markdown",
   "metadata": {},
   "source": [
    "From the Navigation sidebar we will  \n",
    "1. click on **Chat widget**\n",
    "2. click on **add**\n"
   ]
  },
  {
   "cell_type": "markdown",
   "metadata": {},
   "source": [
    "| ![space-1.jpg](./images/chat_snippet_intro.GIF) | \n",
    "|:--:| \n",
    "| *Login to LH3* |"
   ]
  },
  {
   "cell_type": "markdown",
   "metadata": {},
   "source": [
    "Type in the new name following this format.\n",
    "\n",
    "    *. University [Language] (Button/Service type)\n",
    "\n",
    "example:\n",
    "\n",
    "1. Western English (Proactive Chat)\n",
    "2. UOIT (Chat tab)\n",
    "3. Brock (Chat button)\n"
   ]
  },
  {
   "cell_type": "code",
   "execution_count": 47,
   "metadata": {},
   "outputs": [
    {
     "data": {
      "text/html": [
       "<img src=\"./images/new_name.png\" width=\"700px\"/>"
      ],
      "text/plain": [
       "<IPython.core.display.HTML object>"
      ]
     },
     "execution_count": 47,
     "metadata": {},
     "output_type": "execute_result"
    }
   ],
   "source": [
    "from IPython.display import HTML, IFrame\n",
    "HTML('<img src=\"./images/new_name.png\" width=\"700px\"/>')"
   ]
  },
  {
   "cell_type": "markdown",
   "metadata": {},
   "source": [
    "### 2. Editing a Chat widget"
   ]
  },
  {
   "cell_type": "markdown",
   "metadata": {},
   "source": [
    "\n",
    "| ![space-1.jpg](./images/routing_proactive_chat.png) | \n",
    "|:--:| \n",
    "| *Proactive chat settings* |"
   ]
  },
  {
   "cell_type": "markdown",
   "metadata": {},
   "source": [
    "1. This is where you want the new chat widget to point to. If you are a Home Team First school than you can select your school's queue. For the purpose of this tutorial we will choose **practice-webinars**.\n",
    "2. Click on the **Proactive options** tab.\n",
    "3. Select **Button**.\n",
    "4. Select __where__ do you want to place the button.\n",
    "5. Select a theme for your Proactive Chat. I selected the theme named **start** from the list.\n",
    "7. Type the text that you want to display in the title bar. BTW My title is a bit too long. Therefore it will be truncated to fit the Chat widget\n",
    "8. Type the invitation text or leave the default.\n",
    "9. For a button (Step 3) we need to provide the choice to patrons to choose to accept or deny the chat request. \n",
    "10. Type in the **Decline** text content.\n",
    "\n",
    "| ![space-1.jpg](./images/proactive_chat_popup.png) | \n",
    "|:--:| \n",
    "| *Proactive chat popup widget* |"
   ]
  },
  {
   "cell_type": "markdown",
   "metadata": {},
   "source": [
    "Delete the content found in the **Online appearance** tab."
   ]
  },
  {
   "cell_type": "markdown",
   "metadata": {},
   "source": [
    "\n",
    "| ![space-1.jpg](./images/delete_content.png) | \n",
    "|:--:| \n",
    "| *Delete content* |"
   ]
  },
  {
   "cell_type": "markdown",
   "metadata": {},
   "source": [
    "We will go down in the next section of the webpage\n",
    "\n",
    "1. delete the content on **Offline appearance** \n",
    "1. Click **SAVE**"
   ]
  },
  {
   "cell_type": "markdown",
   "metadata": {},
   "source": [
    "\n",
    "| ![space-1.jpg](./images/save2.png) | \n",
    "|:--:| \n",
    "| *Saving the newly created Chat Snippet* |"
   ]
  },
  {
   "cell_type": "markdown",
   "metadata": {},
   "source": [
    "On the next page \n",
    "1. click on the new Chat Snippet that you created\n",
    "    * You can use **CTL+F** to search for your school name or the Chat Snippet number (i.e **899**)\n",
    "2. Scroll to the top of the page and copy the Javascript snippet.\n",
    "\n"
   ]
  },
  {
   "cell_type": "raw",
   "metadata": {},
   "source": [
    "<!-- Place this div in your web page where you want your chat widget to appear. -->\n",
    "<div class=\"needs-js\">chat loading...</div>\n",
    "\n",
    "<!-- Place this script as near to the end of your BODY as possible. -->\n",
    "<script type=\"text/javascript\">\n",
    "  (function() {\n",
    "    var x = document.createElement(\"script\"); x.type = \"text/javascript\"; x.async = true;\n",
    "    x.src = (document.location.protocol === \"https:\" ? \"https://\" : \"http://\") + \"ca.libraryh3lp.com/js/libraryh3lp.js?899\";\n",
    "    var y = document.getElementsByTagName(\"script\")[0]; y.parentNode.insertBefore(x, y);\n",
    "  })();\n",
    "</script>"
   ]
  },
  {
   "cell_type": "markdown",
   "metadata": {},
   "source": [
    "Make sure that your new Chat Snippet number (**899**) is include in the script."
   ]
  },
  {
   "cell_type": "markdown",
   "metadata": {},
   "source": [
    "Starter Template **index.html**. We will use this starter template to test our newly created Chat Widget. Copy paste this content below in your text editor.\n"
   ]
  },
  {
   "cell_type": "raw",
   "metadata": {},
   "source": [
    "<!doctype html>\n",
    "<html lang=\"en\">\n",
    "  <head>\n",
    "    <!-- Required meta tags -->\n",
    "    <meta charset=\"utf-8\">\n",
    "    <meta name=\"viewport\" content=\"width=device-width, initial-scale=1, shrink-to-fit=no\">\n",
    "    <!-- Bootstrap CSS -->\n",
    "    <link rel=\"stylesheet\" href=\"https://maxcdn.bootstrapcdn.com/bootstrap/4.0.0/css/bootstrap.min.css\" integrity=\"sha384-Gn5384xqQ1aoWXA+058RXPxPg6fy4IWvTNh0E263XmFcJlSAwiGgFAW/dAiS6JXm\" crossorigin=\"anonymous\">\n",
    "    <title>Hello, world!</title>\n",
    "  </head>\n",
    "  <body>\n",
    "\n",
    "    <div class=\"jumbotron\">\n",
    "      <h1 class=\"display-4\">Proactive Chat Example!</h1>\n",
    "      <p class=\"lead\">This is a simple proactive chat Example</p>\n",
    "      <hr class=\"my-4\">\n",
    "      <p class=\"lead\">\n",
    "        <a class=\"btn btn-primary btn-lg\" href=\"#\" role=\"button\" id=\"countdown\">Learn more</a>\n",
    "      </p>\n",
    "      <div ></div>\n",
    "    </div>\n",
    "\n",
    "    <!-- Place this div in your web page where you want your chat widget to appear. -->\n",
    "    <div class=\"needs-js\">chat loading...</div>\n",
    "\n",
    "    <!-- Place this script as near to the end of your BODY as possible. -->\n",
    "    <script type=\"text/javascript\">\n",
    "      (function() {\n",
    "        var x = document.createElement(\"script\"); x.type = \"text/javascript\"; x.async = true;\n",
    "        x.src = (document.location.protocol === \"https:\" ? \"https://\" : \"http://\") + \"ca.libraryh3lp.com/js/libraryh3lp.js?899\";\n",
    "        var y = document.getElementsByTagName(\"script\")[0]; y.parentNode.insertBefore(x, y);\n",
    "      })();\n",
    "\n",
    "\n",
    "      //JavaScript countdown\n",
    "      var timeleft = 5;\n",
    "      var downloadTimer = setInterval(function(){\n",
    "        document.getElementById(\"countdown\").innerHTML = timeleft + \" seconds remaining\";\n",
    "        timeleft -= 1;\n",
    "        if(timeleft <= 0){\n",
    "          clearInterval(downloadTimer);\n",
    "          document.getElementById(\"countdown\").innerHTML = \"Voila!\"\n",
    "        }\n",
    "      }, 1000);\n",
    "    </script>\n",
    "  </body>\n",
    "</html>"
   ]
  },
  {
   "cell_type": "markdown",
   "metadata": {},
   "source": [
    "Pay attention to the content. \n",
    "1. This is the default message when the script is loading. It will not appear unless that we have a slow web connection\n",
    "2. The chat widget number is in the script.\n",
    "\n"
   ]
  },
  {
   "cell_type": "markdown",
   "metadata": {},
   "source": [
    "\n",
    "| ![space-1.jpg](./images/script.png) | \n",
    "|:--:| \n",
    "| *Script* |"
   ]
  },
  {
   "cell_type": "markdown",
   "metadata": {},
   "source": [
    "# Voilà!!!"
   ]
  },
  {
   "cell_type": "markdown",
   "metadata": {},
   "source": [
    "Open that file (**index.html**) in your browser. Voilà!!!\n",
    "\n",
    "Make sure that the Service is on by login in the  [LibraryH3lp' Weblient](https://ca.libraryh3lp.com/webclient/ \"LH3 Webclient\") (this is different from the Dashboard. If you are sending your Chats to \"Pratice\" Make sure that you are login to the practice webinar. The Proactive Chat widget will not pop up if the service is **off**"
   ]
  },
  {
   "cell_type": "markdown",
   "metadata": {},
   "source": [
    "| ![login.jpg](./images/final.png) | \n",
    "|:--:| "
   ]
  }
 ],
 "metadata": {
  "kernelspec": {
   "display_name": "Python 3",
   "language": "python",
   "name": "python3"
  },
  "language_info": {
   "codemirror_mode": {
    "name": "ipython",
    "version": 3
   },
   "file_extension": ".py",
   "mimetype": "text/x-python",
   "name": "python",
   "nbconvert_exporter": "python",
   "pygments_lexer": "ipython3",
   "version": "3.7.1"
  }
 },
 "nbformat": 4,
 "nbformat_minor": 2
}
